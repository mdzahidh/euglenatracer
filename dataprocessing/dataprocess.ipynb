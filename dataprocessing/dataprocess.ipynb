{
 "cells": [
  {
   "cell_type": "code",
   "execution_count": 1,
   "metadata": {
    "collapsed": false
   },
   "outputs": [],
   "source": [
    "import json\n",
    "fname = \"../xcode/Release/response_tracks.json\"\n",
    "with open(fname,\"r\") as f:\n",
    "    data = json.load(f)"
   ]
  },
  {
   "cell_type": "code",
   "execution_count": 2,
   "metadata": {
    "collapsed": false
   },
   "outputs": [
    {
     "data": {
      "text/plain": [
       "876"
      ]
     },
     "execution_count": 2,
     "metadata": {},
     "output_type": "execute_result"
    }
   ],
   "source": [
    "deadtracks = filter(lambda x: x[\"numSamples\"] > 5, data[\"deadTracks\"]);\n",
    "livetracks = filter(lambda x: x[\"numSamples\"] > 5, data[\"liveTracks\"]); \n",
    "tracks = deadtracks\n",
    "tracks.extend(livetracks)\n",
    "len(tracks)"
   ]
  },
  {
   "cell_type": "code",
   "execution_count": 3,
   "metadata": {
    "collapsed": false
   },
   "outputs": [],
   "source": [
    "%matplotlib qt\n",
    "import matplotlib.pyplot as plt\n",
    "import numpy as np\n",
    "import matplotlib.lines as lines\n",
    "import matplotlib.patches as patches\n",
    "def simpleaxis(ax):\n",
    "    ax.spines['top'].set_visible(False)\n",
    "    ax.spines['right'].set_visible(False)\n",
    "    ax.get_xaxis().tick_bottom()\n",
    "    ax.get_yaxis().tick_left()"
   ]
  },
  {
   "cell_type": "code",
   "execution_count": 5,
   "metadata": {
    "collapsed": false
   },
   "outputs": [
    {
     "data": {
      "text/plain": [
       "876"
      ]
     },
     "execution_count": 5,
     "metadata": {},
     "output_type": "execute_result"
    }
   ],
   "source": [
    "len(tracks)"
   ]
  },
  {
   "cell_type": "code",
   "execution_count": 14,
   "metadata": {
    "collapsed": false
   },
   "outputs": [],
   "source": [
    "Time = 120.0\n",
    "Frames = 870.0\n",
    "\n",
    "plt.rc('text', usetex=True)\n",
    "plt.rc('font', family='serif',size=5,weight=\"bold\")\n",
    "plt.style.use(\"bmh\")\n",
    "fig,ax = plt.subplots()\n",
    "plt.xlim([0,Time])\n",
    "plt.ylim([-400,400])\n",
    "\n",
    "ax.add_line(lines.Line2D([30,30],  [-400,400],linewidth=2,linestyle=\"--\",color='gray'))\n",
    "ax.add_line(lines.Line2D([60,60],  [-400,400],linewidth=2,linestyle=\"--\",color='gray'))\n",
    "ax.add_line(lines.Line2D([90,90],  [-400,400],linewidth=2,linestyle=\"--\",color='gray'))\n",
    "\n",
    "\n",
    "for t in tracks:\n",
    "    frames = [ x[\"frame\"]/Frames * Time for x in t[\"samples\"]]\n",
    "    center_x = [ x[\"rect\"][0] - t[\"samples\"][0][\"rect\"][0] for x in t[\"samples\"]]    \n",
    "    #plt.hold(True)\n",
    "    plt.plot(frames,center_x,color='darksalmon',linewidth=1)\n",
    "\n",
    "plt.xticks((0,30,60,90,120))\n",
    "plt.yticks((-300,0,300))\n",
    "ax.grid(False)\n",
    "simpleaxis(ax)\n",
    "plt.savefig(\"/Users/zhossain/Dropbox/151 Paper Euglena Online Zahid/Figures/Automonitor/Trace X.pdf\",transparent=True)\n",
    "plt.close(fig)\n",
    "#plt.title('Relative X position of Euglena Vs Time')\n",
    "#plt.xlabel('Time (sec)')\n",
    "#plt.ylabel('Relative X position (pixels)'\n",
    "\n"
   ]
  },
  {
   "cell_type": "code",
   "execution_count": 15,
   "metadata": {
    "collapsed": false
   },
   "outputs": [],
   "source": [
    "fig,ax = plt.subplots()\n",
    "plt.xlim([0,Time])\n",
    "plt.ylim([-400,400])\n",
    "# ax.add_patch(patches.Rectangle((15,-400),15,800,alpha=0.1))\n",
    "# ax.add_patch(patches.Rectangle((45,-400),15,800,alpha=0.1))\n",
    "# ax.add_patch(patches.Rectangle((75,-400),15,800,alpha=0.1))\n",
    "# ax.add_patch(patches.Rectangle((105,-400),15,800,alpha=0.1))\n",
    "\n",
    "ax.add_line(lines.Line2D([30,30],  [-400,400],linewidth=2,linestyle=\"--\",color='gray'))\n",
    "ax.add_line(lines.Line2D([60,60],  [-400,400],linewidth=2,linestyle=\"--\",color='gray'))\n",
    "ax.add_line(lines.Line2D([90,90],  [-400,400],linewidth=2,linestyle=\"--\",color='gray'))\n",
    "    \n",
    "for t in tracks:\n",
    "    frames = [ x[\"frame\"]/Frames * Time for x in t[\"samples\"]]\n",
    "    center_y = [ t[\"samples\"][0][\"rect\"][1] - x[\"rect\"][1]  for x in t[\"samples\"]]    \n",
    "    #plt.hold(True)\n",
    "    plt.plot(frames,center_y,color='teal',linewidth=1)\n",
    "\n",
    "\n",
    "ax.grid(False)\n",
    "simpleaxis(ax)\n",
    "plt.xticks((0,30,60,90,120))\n",
    "plt.yticks((-300,0,300))\n",
    "plt.savefig(\"/Users/zhossain/Dropbox/151 Paper Euglena Online Zahid/Figures/Automonitor/Trace Y.pdf\",transparent=True)\n",
    "plt.close(fig)\n",
    "#plt.title('Relative Y position of Euglena Vs Time')    \n",
    "#plt.xlabel('Time (sec)')\n",
    "#plt.ylabel('Relative Y position (pixels)')\n"
   ]
  },
  {
   "cell_type": "code",
   "execution_count": null,
   "metadata": {
    "collapsed": false
   },
   "outputs": [],
   "source": [
    "import math\n",
    "# def extractPositionsTimeSlot(start,end, fps, tracks):\n",
    "#     startFrame = math.floor(fps * start)\n",
    "#     endFrame = math.ceil(fps * end)\n",
    "#     samples [ for s in t[\"samples\"] for t in tracks if s[\"frame\"] >= startFrame && s[\"frame\"] <= endFrame ]\n",
    "            \n",
    "def truncatedTracks(start,end,fps,tracks):\n",
    "    startFrame = math.floor(fps * start)\n",
    "    endFrame = math.floor(fps * end)\n",
    "    filteredTracks = []\n",
    "    for t in tracks:\n",
    "        if t[\"startFrame\"] <= endFrame:\n",
    "            trackSamples = []\n",
    "            for s in t[\"samples\"]:\n",
    "                if s[\"frame\"] >= startFrame and s[\"frame\"] < endFrame:\n",
    "                    trackSamples.append(s)\n",
    "            filteredTracks.append( trackSamples );\n",
    "    return filteredTracks    "
   ]
  },
  {
   "cell_type": "code",
   "execution_count": null,
   "metadata": {
    "collapsed": false
   },
   "outputs": [],
   "source": [
    "def computeVelocities(tracks,fps):\n",
    "    xlist = [];\n",
    "    ylist = [];\n",
    "    for t in tracks:\n",
    "        for i in xrange(1,len(t)):\n",
    "            rect2 = t[i][\"rect\"]\n",
    "            frame2 = t[i][\"frame\"]\n",
    "            rect1 = t[i-1][\"rect\"]\n",
    "            frame1 = t[i-1]['frame']\n",
    "            \n",
    "            vx = (rect2[0] - rect1[0]) * fps / float( frame2 - frame1 )\n",
    "            vy = -(rect2[1] - rect1[1]) * fps / float( frame2 - frame1 )\n",
    "            xlist.append(vx)\n",
    "            ylist.append(vy)\n",
    "    return xlist,ylist"
   ]
  },
  {
   "cell_type": "code",
   "execution_count": null,
   "metadata": {
    "collapsed": false
   },
   "outputs": [],
   "source": [
    "#plt.rc('text', usetex=True)\n",
    "plt.rc('font', family='serif',size=40,weight=\"bold\")\n",
    "for i in range(4):\n",
    "    start = i*30\n",
    "    end = start + 30\n",
    "    tTracks = truncatedTracks(start,end,Frames/Time,tracks)\n",
    "    xlist,ylist = computeVelocities(tTracks,Frames/Time)\n",
    "    speed = np.sqrt(np.array(xlist)**2 + np.array(ylist)**2)\n",
    "    # plt.hist(ylist,100,normed=1)\n",
    "    fig,ax = plt.subplots()\n",
    "    bins = math.floor(math.sqrt(len(xlist)))\n",
    "    _ = plt.hist(xlist,bins,normed=1,color='gray',alpha=0.5)\n",
    "    plt.xticks((-60,0,60))    \n",
    "    \n",
    "    \n",
    "        \n",
    "    meanx = np.mean(xlist)\n",
    "    medianx = np.mean(xlist)\n",
    "\n",
    "    ax.add_line(lines.Line2D([0,0],  [0,0.03],linewidth=4,linestyle='--',color='black'))\n",
    "    ax.add_line(lines.Line2D([medianx,medianx],  [0,0.03],linewidth=4,color='red'))\n",
    "    ax.grid(False)\n",
    "    ax.set_axis_bgcolor('white')\n",
    "    \n",
    "    plt.setp(ax.get_yticklabels(), visible=False)    #plt.hist(speed,bins,normed=1)\n",
    "    ax.yaxis.set_tick_params(size=0)\n",
    "    \n",
    "\n",
    "    plt.xlim(-100,100)\n",
    "    plt.ylim(0,0.03)\n",
    "    #plt.title('Speed distribution during $%d-%d$ sec, (Mean=$%2.1f$)'%(start,end,meanx))\n",
    "    #plt.xlabel('Velocities (pixels/sec)')\n",
    "    \n",
    "    plt.savefig(\"/Users/zhossain/Dropbox/151 Paper Euglena Online Zahid/Figures/Automonitor/vx_%d_%d.pdf\"%(start,end),transparent=True)\n",
    "    plt.close(fig)\n",
    "   \n",
    "\n",
    "    fig,ax = plt.subplots()\n",
    "    _ = plt.hist(ylist,bins,normed=1,color='gray',alpha=0.5)\n",
    "    plt.xticks((-60,0,60)) \n",
    "\n",
    "    meany = np.mean(ylist)\n",
    "    mediany = np.mean(ylist)\n",
    "\n",
    "    ax.add_line(lines.Line2D([0,0],  [0,0.03],linewidth=4,linestyle='--',color='black'))\n",
    "    ax.add_line(lines.Line2D([mediany,mediany],  [0,0.03],linewidth=4,color='red'))\n",
    "    ax.grid(False)\n",
    "    ax.set_axis_bgcolor('white')\n",
    "    \n",
    "    plt.setp(ax.get_yticklabels(), visible=False)    #plt.hist(speed,bins,normed=1)\n",
    "    ax.yaxis.set_tick_params(size=0)\n",
    "    \n",
    "    plt.xlim(-100,100)\n",
    "    plt.ylim(0,0.03)\n",
    "    #plt.title(' Speed distribution during $%d-%d$ sec, (Mean=$%2.1f$)'%(start,end,meany))\n",
    "    #plt.xlabel('Velocities (pixels/sec)')\n",
    "    plt.savefig(\"/Users/zhossain/Dropbox/151 Paper Euglena Online Zahid/Figures/Automonitor/vy_%d_%d.pdf\"%(start,end),transparent=True)\n",
    "    plt.close(fig)"
   ]
  },
  {
   "cell_type": "code",
   "execution_count": null,
   "metadata": {
    "collapsed": false
   },
   "outputs": [],
   "source": []
  },
  {
   "cell_type": "code",
   "execution_count": null,
   "metadata": {
    "collapsed": false
   },
   "outputs": [],
   "source": [
    "endFrame"
   ]
  },
  {
   "cell_type": "code",
   "execution_count": null,
   "metadata": {
    "collapsed": true
   },
   "outputs": [],
   "source": []
  }
 ],
 "metadata": {
  "kernelspec": {
   "display_name": "Python 2",
   "language": "python",
   "name": "python2"
  },
  "language_info": {
   "codemirror_mode": {
    "name": "ipython",
    "version": 2
   },
   "file_extension": ".py",
   "mimetype": "text/x-python",
   "name": "python",
   "nbconvert_exporter": "python",
   "pygments_lexer": "ipython2",
   "version": "2.7.10"
  }
 },
 "nbformat": 4,
 "nbformat_minor": 0
}
